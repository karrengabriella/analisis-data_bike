{
  "nbformat": 4,
  "nbformat_minor": 0,
  "metadata": {
    "colab": {
      "provenance": []
    },
    "kernelspec": {
      "name": "python3",
      "display_name": "Python 3"
    },
    "language_info": {
      "name": "python"
    }
  },
  "cells": [
    {
      "cell_type": "markdown",
      "source": [
        "# Proyek Analisis Data : Bike"
      ],
      "metadata": {
        "id": "RK8cCnJu-0zX"
      }
    },
    {
      "cell_type": "markdown",
      "source": [
        "\n",
        "*   Nama : Karren Gabriella Khoirunnisa\n",
        "*   Email : m312b4kx2144@bangkit.academy\n",
        "*   ID Dicoding : karrengabriella\n",
        "\n"
      ],
      "metadata": {
        "id": "nuTBzR2P-_wc"
      }
    },
    {
      "cell_type": "markdown",
      "source": [
        "## Pertanyaan Bisnis"
      ],
      "metadata": {
        "id": "nGQw9Xfg_dOm"
      }
    },
    {
      "cell_type": "markdown",
      "source": [
        "\n",
        "\n",
        "*   Pertanyaan 1 : Bagaimana pola penggunaan sepeda berdasarkan musim?\n",
        "*   Pertanyaan 2 : Bagaimana waktu (jam) memengaruhi jumlah penyewaaan sepeda?\n",
        "\n"
      ],
      "metadata": {
        "id": "e-Jt9QBN_hvM"
      }
    },
    {
      "cell_type": "markdown",
      "source": [
        "### Import Packages/Library yang digunakan"
      ],
      "metadata": {
        "id": "SmKjgG5s_qSh"
      }
    },
    {
      "cell_type": "code",
      "execution_count": 2,
      "metadata": {
        "id": "v0L3J9i1TvsZ"
      },
      "outputs": [],
      "source": [
        "import pandas as pd\n",
        "import matplotlib.pyplot as plt\n",
        "import seaborn as sns\n",
        "from sklearn.cluster import KMeans\n",
        "from sklearn.preprocessing import StandardScaler"
      ]
    },
    {
      "cell_type": "markdown",
      "source": [
        "Insight : pada bagian ini, perlu mengimpor semua library yang akan digunakan untuk analisis."
      ],
      "metadata": {
        "id": "5H56R_zVWPeT"
      }
    },
    {
      "cell_type": "markdown",
      "source": [
        "## Data Wrangling"
      ],
      "metadata": {
        "id": "1qQ8K_zhVCbi"
      }
    },
    {
      "cell_type": "markdown",
      "source": [
        "### Gathering Data"
      ],
      "metadata": {
        "id": "1O92Gv06UoWj"
      }
    },
    {
      "cell_type": "code",
      "source": [
        "hour_df = pd.read_csv('https://raw.githubusercontent.com/karrengabriella/analisis-data_bike/main/data/hour.csv')\n",
        "day_df = pd.read_csv('https://raw.githubusercontent.com/karrengabriella/analisis-data_bike/main/data/day.csv')"
      ],
      "metadata": {
        "id": "jxwzG7ZoUpGm"
      },
      "execution_count": 3,
      "outputs": []
    },
    {
      "cell_type": "markdown",
      "source": [
        "Insight  :Data diambil dari sumber eksternal (GitHub) menggunakan fungsi pd.read_csv(). Dataset ini berisi data penyewaan sepeda per jam dan harian."
      ],
      "metadata": {
        "id": "ra5H19jiWXOa"
      }
    },
    {
      "cell_type": "markdown",
      "source": [
        "## Assesing Data"
      ],
      "metadata": {
        "id": "3CSfg5iCWa6L"
      }
    },
    {
      "cell_type": "code",
      "source": [
        "print(\"Data Hour:\")\n",
        "print(hour_df.head())\n",
        "print(\"\\nData Day:\")\n",
        "print(day_df.head())\n",
        "\n",
        "print(\"\\nInformasi Data Hour:\")\n",
        "print(hour_df.info())\n",
        "print(\"\\nInformasi Data Day:\")\n",
        "print(day_df.info())"
      ],
      "metadata": {
        "id": "eXEptEM6TzpC",
        "colab": {
          "base_uri": "https://localhost:8080/"
        },
        "collapsed": true,
        "outputId": "4150ec3d-7625-4eae-b4a9-53166df01536"
      },
      "execution_count": 10,
      "outputs": [
        {
          "output_type": "stream",
          "name": "stdout",
          "text": [
            "Data Hour:\n",
            "   instant      dteday season  yr  mnth  hr  holiday  weekday  workingday  \\\n",
            "0        1  2011-01-01    NaN   0     1   0        0        6           0   \n",
            "1        2  2011-01-01    NaN   0     1   1        0        6           0   \n",
            "2        3  2011-01-01    NaN   0     1   2        0        6           0   \n",
            "3        4  2011-01-01    NaN   0     1   3        0        6           0   \n",
            "4        5  2011-01-01    NaN   0     1   4        0        6           0   \n",
            "\n",
            "   weathersit  ...   hum  windspeed  casual  registered  cnt  \\\n",
            "0           1  ...  0.81        0.0       3          13   16   \n",
            "1           1  ...  0.80        0.0       8          32   40   \n",
            "2           1  ...  0.80        0.0       5          27   32   \n",
            "3           1  ...  0.75        0.0       3          10   13   \n",
            "4           1  ...  0.75        0.0       0           1    1   \n",
            "\n",
            "             datetime  year month  day  hour  \n",
            "0 2011-01-01 00:00:00  2011     1    1     0  \n",
            "1 2011-01-01 01:00:00  2011     1    1     1  \n",
            "2 2011-01-01 02:00:00  2011     1    1     2  \n",
            "3 2011-01-01 03:00:00  2011     1    1     3  \n",
            "4 2011-01-01 04:00:00  2011     1    1     4  \n",
            "\n",
            "[5 rows x 22 columns]\n",
            "\n",
            "Data Day:\n",
            "   instant      dteday  season  yr  mnth  holiday  weekday  workingday  \\\n",
            "0        1  2011-01-01  Winter   0     1        0        6           0   \n",
            "1        2  2011-01-02  Winter   0     1        0        0           0   \n",
            "2        3  2011-01-03  Winter   0     1        0        1           1   \n",
            "3        4  2011-01-04  Winter   0     1        0        2           1   \n",
            "4        5  2011-01-05  Winter   0     1        0        3           1   \n",
            "\n",
            "   weathersit      temp     atemp       hum  windspeed  casual  registered  \\\n",
            "0           2  0.344167  0.363625  0.805833   0.160446     331         654   \n",
            "1           2  0.363478  0.353739  0.696087   0.248539     131         670   \n",
            "2           1  0.196364  0.189405  0.437273   0.248309     120        1229   \n",
            "3           1  0.200000  0.212122  0.590435   0.160296     108        1454   \n",
            "4           1  0.226957  0.229270  0.436957   0.186900      82        1518   \n",
            "\n",
            "    cnt   datetime  year  month  \n",
            "0   985 2011-01-01  2011      1  \n",
            "1   801 2011-01-02  2011      1  \n",
            "2  1349 2011-01-03  2011      1  \n",
            "3  1562 2011-01-04  2011      1  \n",
            "4  1600 2011-01-05  2011      1  \n",
            "\n",
            "Informasi Data Hour:\n",
            "<class 'pandas.core.frame.DataFrame'>\n",
            "RangeIndex: 17379 entries, 0 to 17378\n",
            "Data columns (total 22 columns):\n",
            " #   Column      Non-Null Count  Dtype         \n",
            "---  ------      --------------  -----         \n",
            " 0   instant     17379 non-null  int64         \n",
            " 1   dteday      17379 non-null  object        \n",
            " 2   season      0 non-null      object        \n",
            " 3   yr          17379 non-null  int64         \n",
            " 4   mnth        17379 non-null  int64         \n",
            " 5   hr          17379 non-null  int64         \n",
            " 6   holiday     17379 non-null  int64         \n",
            " 7   weekday     17379 non-null  int64         \n",
            " 8   workingday  17379 non-null  int64         \n",
            " 9   weathersit  17379 non-null  int64         \n",
            " 10  temp        17379 non-null  float64       \n",
            " 11  atemp       17379 non-null  float64       \n",
            " 12  hum         17379 non-null  float64       \n",
            " 13  windspeed   17379 non-null  float64       \n",
            " 14  casual      17379 non-null  int64         \n",
            " 15  registered  17379 non-null  int64         \n",
            " 16  cnt         17379 non-null  int64         \n",
            " 17  datetime    17379 non-null  datetime64[ns]\n",
            " 18  year        17379 non-null  int32         \n",
            " 19  month       17379 non-null  int32         \n",
            " 20  day         17379 non-null  int32         \n",
            " 21  hour        17379 non-null  int32         \n",
            "dtypes: datetime64[ns](1), float64(4), int32(4), int64(11), object(2)\n",
            "memory usage: 2.7+ MB\n",
            "None\n",
            "\n",
            "Informasi Data Day:\n",
            "<class 'pandas.core.frame.DataFrame'>\n",
            "RangeIndex: 731 entries, 0 to 730\n",
            "Data columns (total 19 columns):\n",
            " #   Column      Non-Null Count  Dtype         \n",
            "---  ------      --------------  -----         \n",
            " 0   instant     731 non-null    int64         \n",
            " 1   dteday      731 non-null    object        \n",
            " 2   season      731 non-null    object        \n",
            " 3   yr          731 non-null    int64         \n",
            " 4   mnth        731 non-null    int64         \n",
            " 5   holiday     731 non-null    int64         \n",
            " 6   weekday     731 non-null    int64         \n",
            " 7   workingday  731 non-null    int64         \n",
            " 8   weathersit  731 non-null    int64         \n",
            " 9   temp        731 non-null    float64       \n",
            " 10  atemp       731 non-null    float64       \n",
            " 11  hum         731 non-null    float64       \n",
            " 12  windspeed   731 non-null    float64       \n",
            " 13  casual      731 non-null    int64         \n",
            " 14  registered  731 non-null    int64         \n",
            " 15  cnt         731 non-null    int64         \n",
            " 16  datetime    731 non-null    datetime64[ns]\n",
            " 17  year        731 non-null    int32         \n",
            " 18  month       731 non-null    int32         \n",
            "dtypes: datetime64[ns](1), float64(4), int32(2), int64(10), object(2)\n",
            "memory usage: 102.9+ KB\n",
            "None\n"
          ]
        }
      ]
    },
    {
      "cell_type": "markdown",
      "source": [
        "Insight : Kolom penting seperti season, hr, dan cnt dapat digunakan untuk analisis lebih lanjut."
      ],
      "metadata": {
        "id": "4IoM0r3isnu2"
      }
    },
    {
      "cell_type": "markdown",
      "source": [
        "### Cleaning Data"
      ],
      "metadata": {
        "id": "QFwbkiXpdAbl"
      }
    },
    {
      "cell_type": "code",
      "source": [
        "# Function for data cleaning\n",
        "def clear_data(df):\n",
        "    # Remove duplicates\n",
        "    df_cleaned = df.drop_duplicates()\n",
        "    # Handle missing values (drop rows with missing values)\n",
        "    df_cleaned = df_cleaned.dropna()\n",
        "    return df_cleaned\n",
        "\n",
        "# Membersihkan data menggunakan fungsi clear_data\n",
        "hour_df_cleaned = clear_data(hour_df)\n",
        "day_df_cleaned = clear_data(day_df)"
      ],
      "metadata": {
        "id": "NprfvpvLT2NG"
      },
      "execution_count": 4,
      "outputs": []
    },
    {
      "cell_type": "markdown",
      "source": [
        "Insight : Data cleaning mencakup penghapusan duplikasi dan missing values. Ini memastikan bahwa analisis dilakukan pada data yang bersih dan relevan."
      ],
      "metadata": {
        "id": "0A7lf9tndScD"
      }
    },
    {
      "cell_type": "markdown",
      "source": [
        "### Exploratory Data Analysis (EDA)"
      ],
      "metadata": {
        "id": "dBJB98jadRP0"
      }
    },
    {
      "cell_type": "markdown",
      "source": [
        "## Explore Data"
      ],
      "metadata": {
        "id": "-Y2TxVyDW1X7"
      }
    },
    {
      "cell_type": "code",
      "source": [
        "# Ekstraksi fitur tambahan dari dataset hour_df dan day_df\n",
        "hour_df['season'] = hour_df['season'].map({1: 'Winter', 2: 'Spring', 3: 'Summer', 4: 'Fall'})\n",
        "hour_df['datetime'] = pd.to_datetime(hour_df['dteday']) + pd.to_timedelta(hour_df['hr'], unit='h')\n",
        "\n",
        "# Melakukan grouping data\n",
        "season_counts_hour = hour_df_cleaned.groupby('season')['cnt'].sum().reset_index()"
      ],
      "metadata": {
        "id": "0yboIDZYT496",
        "collapsed": true
      },
      "execution_count": 5,
      "outputs": []
    },
    {
      "cell_type": "code",
      "source": [
        "# Ekstraksi Fitur Tambahan\n",
        "hour_df['datetime'] = pd.to_datetime(hour_df['dteday']) + pd.to_timedelta(hour_df['hr'], unit='h')\n",
        "hour_df['year'] = hour_df['datetime'].dt.year\n",
        "hour_df['month'] = hour_df['datetime'].dt.month\n",
        "hour_df['day'] = hour_df['datetime'].dt.day\n",
        "hour_df['hour'] = hour_df['datetime'].dt.hour\n",
        "hour_df['season'] = hour_df['season'].map({1: 'Winter', 2: 'Spring', 3: 'Summer', 4: 'Fall'})\n",
        "\n",
        "day_df['datetime'] = pd.to_datetime(day_df['dteday'])\n",
        "day_df['year'] = day_df['datetime'].dt.year\n",
        "day_df['month'] = day_df['datetime'].dt.month\n",
        "day_df['season'] = day_df['season'].map({1: 'Winter', 2: 'Spring', 3: 'Summer', 4: 'Fall'})\n"
      ],
      "metadata": {
        "id": "8CGM0ApQY6D9"
      },
      "execution_count": 6,
      "outputs": []
    },
    {
      "cell_type": "markdown",
      "source": [
        "Insight : melakukan transformasi fitur dengan menambahkan kolom baru seperti season dan datetime. Dilakukan grouping data untuk analisis lebih lanjut. Fitur tambahan seperti season memungkinkan untuk mengamati pola berdasarkan musim."
      ],
      "metadata": {
        "id": "P1sDzcdkderk"
      }
    },
    {
      "cell_type": "markdown",
      "source": [
        "*   Pertanyaan 1 : Bagaimana pola penggunaan sepeda berdasarkan musim?"
      ],
      "metadata": {
        "id": "wJruBp9iJaPm"
      }
    },
    {
      "cell_type": "code",
      "source": [
        "# Menghitung rata-rata penyewaan berdasarkan musim\n",
        "season_avg = hour_df_cleaned.groupby('season')['cnt'].mean().reset_index()\n",
        "\n",
        "# Menghitung rata-rata penyewaan berdasarkan jam\n",
        "hour_avg = hour_df_cleaned.groupby('hr')['cnt'].mean().reset_index()"
      ],
      "metadata": {
        "id": "lZIns5pWm8B0"
      },
      "execution_count": 7,
      "outputs": []
    },
    {
      "cell_type": "markdown",
      "source": [
        "* Insight : EDA Univariate, untuk mengelompokkan data penyewaan sepeda (cnt) berdasarkan musim (season), lalu menghitung rata-rata jumlah penyewaan untuk setiap musim."
      ],
      "metadata": {
        "id": "jlWsoe3tOpPT"
      }
    },
    {
      "cell_type": "markdown",
      "source": [
        "*   Pertanyaan 2 : Apakah ada pola penyewaan sepeda berdasarkan jam tertentu dalam sehari?"
      ],
      "metadata": {
        "id": "ltclb6h0CjGa"
      }
    },
    {
      "cell_type": "code",
      "source": [
        "# Menghitung rata-rata penyewaan berdasarkan jam\n",
        "hour_avg = hour_df_cleaned.groupby('hr')['cnt'].mean().reset_index()"
      ],
      "metadata": {
        "id": "6fYMMVr-nGrC"
      },
      "execution_count": 8,
      "outputs": []
    },
    {
      "cell_type": "markdown",
      "source": [
        "* Insight : EDA Univariate untuk mengelompokkan data penyewaan sepeda berdasarkan jam (hr), lalu menghitung rata-rata jumlah penyewaan per jam."
      ],
      "metadata": {
        "id": "gntGE1w_O9CH"
      }
    },
    {
      "cell_type": "markdown",
      "source": [
        "### Visualization & Explanatory Analysis"
      ],
      "metadata": {
        "id": "SUBVvdLuXEbI"
      }
    },
    {
      "cell_type": "markdown",
      "source": [
        "Pertanyaan 1 : Bagaimana pola penggunaan sepeda berdasarkan musim?"
      ],
      "metadata": {
        "id": "bgv-dDuWXLkl"
      }
    },
    {
      "cell_type": "code",
      "source": [
        "# Visualisasi dengan bar chart (Musim)\n",
        "plt.figure(figsize=(8, 6))\n",
        "sns.barplot(x='season', y='cnt', data=season_avg, palette='Blues_d')\n",
        "plt.title('Rata-rata Penyewaan Sepeda per Musim', fontsize=14)\n",
        "plt.xlabel('Musim', fontsize=12)\n",
        "plt.ylabel('Rata-rata Penyewaan Sepeda', fontsize=12)\n",
        "plt.show()"
      ],
      "metadata": {
        "colab": {
          "base_uri": "https://localhost:8080/",
          "height": 815
        },
        "id": "24r86zf1Ylcs",
        "outputId": "a89c3e24-9168-4cba-d624-dfb6475d78b9",
        "collapsed": true
      },
      "execution_count": 67,
      "outputs": [
        {
          "output_type": "stream",
          "name": "stderr",
          "text": [
            "<ipython-input-67-6ec55e51433e>:3: FutureWarning: \n",
            "\n",
            "Passing `palette` without assigning `hue` is deprecated and will be removed in v0.14.0. Assign the `x` variable to `hue` and set `legend=False` for the same effect.\n",
            "\n",
            "  sns.barplot(x='season', y='cnt', data=season_avg, palette='Blues_d')\n",
            "/usr/local/lib/python3.10/dist-packages/seaborn/_base.py:949: FutureWarning: When grouping with a length-1 list-like, you will need to pass a length-1 tuple to get_group in a future version of pandas. Pass `(name,)` instead of `name` to silence this warning.\n",
            "  data_subset = grouped_data.get_group(pd_key)\n",
            "/usr/local/lib/python3.10/dist-packages/seaborn/_base.py:949: FutureWarning: When grouping with a length-1 list-like, you will need to pass a length-1 tuple to get_group in a future version of pandas. Pass `(name,)` instead of `name` to silence this warning.\n",
            "  data_subset = grouped_data.get_group(pd_key)\n",
            "/usr/local/lib/python3.10/dist-packages/seaborn/_base.py:949: FutureWarning: When grouping with a length-1 list-like, you will need to pass a length-1 tuple to get_group in a future version of pandas. Pass `(name,)` instead of `name` to silence this warning.\n",
            "  data_subset = grouped_data.get_group(pd_key)\n",
            "/usr/local/lib/python3.10/dist-packages/seaborn/_base.py:949: FutureWarning: When grouping with a length-1 list-like, you will need to pass a length-1 tuple to get_group in a future version of pandas. Pass `(name,)` instead of `name` to silence this warning.\n",
            "  data_subset = grouped_data.get_group(pd_key)\n"
          ]
        },
        {
          "output_type": "display_data",
          "data": {
            "text/plain": [
              "<Figure size 800x600 with 1 Axes>"
            ],
            "image/png": "[encoded data removed]"
          },
          "metadata": {}
        }
      ]
    },
    {
      "cell_type": "markdown",
      "source": [
        "* Insight : Visualisasi barplot memperjelas perbedaan jumlah penyewaan di setiap musim, dengan penekanan khusus pada Summer dan Fall yang memiliki warna lebih terang untuk menyoroti tingginya jumlah penyewaan."
      ],
      "metadata": {
        "id": "aohXmlfndokv"
      }
    },
    {
      "cell_type": "markdown",
      "source": [
        "Pertanyaan 2 : Bagaimana pola penyewaan sepeda berdasarkan jam?"
      ],
      "metadata": {
        "id": "vfYp0fU-aTHP"
      }
    },
    {
      "cell_type": "code",
      "source": [
        "# Visualisasi rata-rata penyewaan sepeda berdasarkan jam dengan barplot\n",
        "plt.figure(figsize=(10, 6))\n",
        "sns.barplot(x='hr', y='cnt', data=hour_avg, palette='viridis')\n",
        "plt.title('Rata-rata Penyewaan Sepeda Berdasarkan Jam', fontsize=14)\n",
        "plt.xlabel('Jam', fontsize=12)\n",
        "plt.ylabel('Rata-rata Penyewaan Sepeda', fontsize=12)\n",
        "plt.xticks(range(0, 24))\n",
        "plt.show()"
      ],
      "metadata": {
        "colab": {
          "base_uri": "https://localhost:8080/",
          "height": 1000
        },
        "id": "zcPhOgoEnWz6",
        "outputId": "8514969a-0492-4b94-f0b4-9a52cfc5a69a"
      },
      "execution_count": 68,
      "outputs": [
        {
          "output_type": "stream",
          "name": "stderr",
          "text": [
            "<ipython-input-68-13c66d433430>:3: FutureWarning: \n",
            "\n",
            "Passing `palette` without assigning `hue` is deprecated and will be removed in v0.14.0. Assign the `x` variable to `hue` and set `legend=False` for the same effect.\n",
            "\n",
            "  sns.barplot(x='hr', y='cnt', data=hour_avg, palette='viridis')\n",
            "/usr/local/lib/python3.10/dist-packages/seaborn/_base.py:949: FutureWarning: When grouping with a length-1 list-like, you will need to pass a length-1 tuple to get_group in a future version of pandas. Pass `(name,)` instead of `name` to silence this warning.\n",
            "  data_subset = grouped_data.get_group(pd_key)\n",
            "/usr/local/lib/python3.10/dist-packages/seaborn/_base.py:949: FutureWarning: When grouping with a length-1 list-like, you will need to pass a length-1 tuple to get_group in a future version of pandas. Pass `(name,)` instead of `name` to silence this warning.\n",
            "  data_subset = grouped_data.get_group(pd_key)\n",
            "/usr/local/lib/python3.10/dist-packages/seaborn/_base.py:949: FutureWarning: When grouping with a length-1 list-like, you will need to pass a length-1 tuple to get_group in a future version of pandas. Pass `(name,)` instead of `name` to silence this warning.\n",
            "  data_subset = grouped_data.get_group(pd_key)\n",
            "/usr/local/lib/python3.10/dist-packages/seaborn/_base.py:949: FutureWarning: When grouping with a length-1 list-like, you will need to pass a length-1 tuple to get_group in a future version of pandas. Pass `(name,)` instead of `name` to silence this warning.\n",
            "  data_subset = grouped_data.get_group(pd_key)\n",
            "/usr/local/lib/python3.10/dist-packages/seaborn/_base.py:949: FutureWarning: When grouping with a length-1 list-like, you will need to pass a length-1 tuple to get_group in a future version of pandas. Pass `(name,)` instead of `name` to silence this warning.\n",
            "  data_subset = grouped_data.get_group(pd_key)\n",
            "/usr/local/lib/python3.10/dist-packages/seaborn/_base.py:949: FutureWarning: When grouping with a length-1 list-like, you will need to pass a length-1 tuple to get_group in a future version of pandas. Pass `(name,)` instead of `name` to silence this warning.\n",
            "  data_subset = grouped_data.get_group(pd_key)\n",
            "/usr/local/lib/python3.10/dist-packages/seaborn/_base.py:949: FutureWarning: When grouping with a length-1 list-like, you will need to pass a length-1 tuple to get_group in a future version of pandas. Pass `(name,)` instead of `name` to silence this warning.\n",
            "  data_subset = grouped_data.get_group(pd_key)\n",
            "/usr/local/lib/python3.10/dist-packages/seaborn/_base.py:949: FutureWarning: When grouping with a length-1 list-like, you will need to pass a length-1 tuple to get_group in a future version of pandas. Pass `(name,)` instead of `name` to silence this warning.\n",
            "  data_subset = grouped_data.get_group(pd_key)\n",
            "/usr/local/lib/python3.10/dist-packages/seaborn/_base.py:949: FutureWarning: When grouping with a length-1 list-like, you will need to pass a length-1 tuple to get_group in a future version of pandas. Pass `(name,)` instead of `name` to silence this warning.\n",
            "  data_subset = grouped_data.get_group(pd_key)\n",
            "/usr/local/lib/python3.10/dist-packages/seaborn/_base.py:949: FutureWarning: When grouping with a length-1 list-like, you will need to pass a length-1 tuple to get_group in a future version of pandas. Pass `(name,)` instead of `name` to silence this warning.\n",
            "  data_subset = grouped_data.get_group(pd_key)\n",
            "/usr/local/lib/python3.10/dist-packages/seaborn/_base.py:949: FutureWarning: When grouping with a length-1 list-like, you will need to pass a length-1 tuple to get_group in a future version of pandas. Pass `(name,)` instead of `name` to silence this warning.\n",
            "  data_subset = grouped_data.get_group(pd_key)\n",
            "/usr/local/lib/python3.10/dist-packages/seaborn/_base.py:949: FutureWarning: When grouping with a length-1 list-like, you will need to pass a length-1 tuple to get_group in a future version of pandas. Pass `(name,)` instead of `name` to silence this warning.\n",
            "  data_subset = grouped_data.get_group(pd_key)\n",
            "/usr/local/lib/python3.10/dist-packages/seaborn/_base.py:949: FutureWarning: When grouping with a length-1 list-like, you will need to pass a length-1 tuple to get_group in a future version of pandas. Pass `(name,)` instead of `name` to silence this warning.\n",
            "  data_subset = grouped_data.get_group(pd_key)\n",
            "/usr/local/lib/python3.10/dist-packages/seaborn/_base.py:949: FutureWarning: When grouping with a length-1 list-like, you will need to pass a length-1 tuple to get_group in a future version of pandas. Pass `(name,)` instead of `name` to silence this warning.\n",
            "  data_subset = grouped_data.get_group(pd_key)\n",
            "/usr/local/lib/python3.10/dist-packages/seaborn/_base.py:949: FutureWarning: When grouping with a length-1 list-like, you will need to pass a length-1 tuple to get_group in a future version of pandas. Pass `(name,)` instead of `name` to silence this warning.\n",
            "  data_subset = grouped_data.get_group(pd_key)\n",
            "/usr/local/lib/python3.10/dist-packages/seaborn/_base.py:949: FutureWarning: When grouping with a length-1 list-like, you will need to pass a length-1 tuple to get_group in a future version of pandas. Pass `(name,)` instead of `name` to silence this warning.\n",
            "  data_subset = grouped_data.get_group(pd_key)\n",
            "/usr/local/lib/python3.10/dist-packages/seaborn/_base.py:949: FutureWarning: When grouping with a length-1 list-like, you will need to pass a length-1 tuple to get_group in a future version of pandas. Pass `(name,)` instead of `name` to silence this warning.\n",
            "  data_subset = grouped_data.get_group(pd_key)\n",
            "/usr/local/lib/python3.10/dist-packages/seaborn/_base.py:949: FutureWarning: When grouping with a length-1 list-like, you will need to pass a length-1 tuple to get_group in a future version of pandas. Pass `(name,)` instead of `name` to silence this warning.\n",
            "  data_subset = grouped_data.get_group(pd_key)\n",
            "/usr/local/lib/python3.10/dist-packages/seaborn/_base.py:949: FutureWarning: When grouping with a length-1 list-like, you will need to pass a length-1 tuple to get_group in a future version of pandas. Pass `(name,)` instead of `name` to silence this warning.\n",
            "  data_subset = grouped_data.get_group(pd_key)\n",
            "/usr/local/lib/python3.10/dist-packages/seaborn/_base.py:949: FutureWarning: When grouping with a length-1 list-like, you will need to pass a length-1 tuple to get_group in a future version of pandas. Pass `(name,)` instead of `name` to silence this warning.\n",
            "  data_subset = grouped_data.get_group(pd_key)\n",
            "/usr/local/lib/python3.10/dist-packages/seaborn/_base.py:949: FutureWarning: When grouping with a length-1 list-like, you will need to pass a length-1 tuple to get_group in a future version of pandas. Pass `(name,)` instead of `name` to silence this warning.\n",
            "  data_subset = grouped_data.get_group(pd_key)\n",
            "/usr/local/lib/python3.10/dist-packages/seaborn/_base.py:949: FutureWarning: When grouping with a length-1 list-like, you will need to pass a length-1 tuple to get_group in a future version of pandas. Pass `(name,)` instead of `name` to silence this warning.\n",
            "  data_subset = grouped_data.get_group(pd_key)\n",
            "/usr/local/lib/python3.10/dist-packages/seaborn/_base.py:949: FutureWarning: When grouping with a length-1 list-like, you will need to pass a length-1 tuple to get_group in a future version of pandas. Pass `(name,)` instead of `name` to silence this warning.\n",
            "  data_subset = grouped_data.get_group(pd_key)\n",
            "/usr/local/lib/python3.10/dist-packages/seaborn/_base.py:949: FutureWarning: When grouping with a length-1 list-like, you will need to pass a length-1 tuple to get_group in a future version of pandas. Pass `(name,)` instead of `name` to silence this warning.\n",
            "  data_subset = grouped_data.get_group(pd_key)\n"
          ]
        },
        {
          "output_type": "display_data",
          "data": {
            "text/plain": [
              "<Figure size 1000x600 with 1 Axes>"
            ],
            "image/png": "[encoded data removed]"
          },
          "metadata": {}
        }
      ]
    },
    {
      "cell_type": "markdown",
      "source": [
        "* Insight :  Dari visualisasi barplot, terlihat bahwa puncak penyewaan sepeda terjadi pada jam-jam sibuk, yaitu di pagi hari sekitar pukul 8-9 dan di sore hari sekitar pukul 17-18. Ini menunjukkan bahwa penggunaan sepeda cenderung meningkat pada jam pergi dan pulang kerja, menandakan tingginya penggunaan sepeda sebagai moda transportasi.\n"
      ],
      "metadata": {
        "id": "oXVrxhh0PGao"
      }
    },
    {
      "cell_type": "markdown",
      "source": [
        "## Analisis Data klastering"
      ],
      "metadata": {
        "id": "qBKyANV8OUQo"
      }
    },
    {
      "cell_type": "code",
      "source": [
        "# Mengambil data musim, jam, dan penyewaan\n",
        "X = hour_df_cleaned[['season', 'hr', 'cnt']]\n",
        "\n",
        "# Melakukan scaling pada data\n",
        "scaler = StandardScaler()\n",
        "X_scaled = scaler.fit_transform(X)\n",
        "\n",
        "# Menjalankan KMeans clustering dengan 3 cluster\n",
        "kmeans = KMeans(n_clusters=3, random_state=42)\n",
        "hour_df_cleaned['cluster'] = kmeans.fit_predict(X_scaled)\n",
        "\n",
        "# Visualisasi hasil clustering (Cluster vs Jam) dengan barplot\n",
        "cluster_avg = hour_df_cleaned.groupby(['hr', 'cluster'])['cnt'].mean().reset_index()\n",
        "\n",
        "plt.figure(figsize=(12, 6))\n",
        "sns.barplot(x='hr', y='cnt', hue='cluster', data=cluster_avg, palette='Set2')\n",
        "\n",
        "# Menambahkan judul dan label\n",
        "plt.title('Rata-rata Penyewaan Berdasarkan Jam dan Cluster', fontsize=14)\n",
        "plt.xlabel('Jam', fontsize=12)\n",
        "plt.ylabel('Rata-rata Penyewaan Sepeda', fontsize=12)\n",
        "plt.xticks(range(0, 24))\n",
        "plt.legend(title='Cluster')\n",
        "plt.show()"
      ],
      "metadata": {
        "colab": {
          "base_uri": "https://localhost:8080/",
          "height": 693
        },
        "id": "125sS1EJOYCh",
        "outputId": "fac089cb-e177-48f7-c51e-6406abe40372"
      },
      "execution_count": 70,
      "outputs": [
        {
          "output_type": "stream",
          "name": "stderr",
          "text": [
            "/usr/local/lib/python3.10/dist-packages/seaborn/_base.py:949: FutureWarning: When grouping with a length-1 list-like, you will need to pass a length-1 tuple to get_group in a future version of pandas. Pass `(name,)` instead of `name` to silence this warning.\n",
            "  data_subset = grouped_data.get_group(pd_key)\n",
            "/usr/local/lib/python3.10/dist-packages/seaborn/_base.py:949: FutureWarning: When grouping with a length-1 list-like, you will need to pass a length-1 tuple to get_group in a future version of pandas. Pass `(name,)` instead of `name` to silence this warning.\n",
            "  data_subset = grouped_data.get_group(pd_key)\n",
            "/usr/local/lib/python3.10/dist-packages/seaborn/_base.py:949: FutureWarning: When grouping with a length-1 list-like, you will need to pass a length-1 tuple to get_group in a future version of pandas. Pass `(name,)` instead of `name` to silence this warning.\n",
            "  data_subset = grouped_data.get_group(pd_key)\n"
          ]
        },
        {
          "output_type": "display_data",
          "data": {
            "text/plain": [
              "<Figure size 1200x600 with 1 Axes>"
            ],
            "image/png": "[encoded data removed]"
          },
          "metadata": {}
        }
      ]
    },
    {
      "cell_type": "markdown",
      "source": [
        "* Insight : Clustering berdasarkan musim dan jam, Menggunakan KMeans untuk mengelompokkan data penyewaan sepeda berdasarkan musim dan jam untuk membantu mengidentifikasi pola dalam penggunaan sepeda di waktu yang berbeda dan musim yang berbeda. Setelah melakukan klastering, tiga pola klaster berbeda ditemukan. Cluster 0 mengindikasikan penyewaan rendah, terjadi di luar jam sibuk. Cluster 1 menunjukkan penyewaan moderat sepanjang hari, sedangkan Cluster 2 menggambarkan puncak penyewaan pada jam sibuk, terutama di musim yang lebih hangat (Summer dan Fall)."
      ],
      "metadata": {
        "id": "cOMU3O02OecQ"
      }
    },
    {
      "cell_type": "code",
      "source": [
        "#statistik Deskriptif\n",
        "\n",
        "print(\"\\nStatistik Deskriptif Data Hour:\")\n",
        "print(hour_df.describe())\n",
        "\n",
        "print(\"\\nStatistik Deskriptif Data Day:\")\n",
        "print(day_df.describe())"
      ],
      "metadata": {
        "colab": {
          "base_uri": "https://localhost:8080/"
        },
        "id": "mJOOWMSgZDnj",
        "outputId": "b2639a76-f667-408b-94e9-bf46954bf12e"
      },
      "execution_count": 69,
      "outputs": [
        {
          "output_type": "stream",
          "name": "stdout",
          "text": [
            "\n",
            "Statistik Deskriptif Data Hour:\n",
            "          instant            yr          mnth            hr       holiday  \\\n",
            "count  17379.0000  17379.000000  17379.000000  17379.000000  17379.000000   \n",
            "mean    8690.0000      0.502561      6.537775     11.546752      0.028770   \n",
            "min        1.0000      0.000000      1.000000      0.000000      0.000000   \n",
            "25%     4345.5000      0.000000      4.000000      6.000000      0.000000   \n",
            "50%     8690.0000      1.000000      7.000000     12.000000      0.000000   \n",
            "75%    13034.5000      1.000000     10.000000     18.000000      0.000000   \n",
            "max    17379.0000      1.000000     12.000000     23.000000      1.000000   \n",
            "std     5017.0295      0.500008      3.438776      6.914405      0.167165   \n",
            "\n",
            "            weekday    workingday    weathersit          temp         atemp  \\\n",
            "count  17379.000000  17379.000000  17379.000000  17379.000000  17379.000000   \n",
            "mean       3.003683      0.682721      1.425283      0.496987      0.475775   \n",
            "min        0.000000      0.000000      1.000000      0.020000      0.000000   \n",
            "25%        1.000000      0.000000      1.000000      0.340000      0.333300   \n",
            "50%        3.000000      1.000000      1.000000      0.500000      0.484800   \n",
            "75%        5.000000      1.000000      2.000000      0.660000      0.621200   \n",
            "max        6.000000      1.000000      4.000000      1.000000      1.000000   \n",
            "std        2.005771      0.465431      0.639357      0.192556      0.171850   \n",
            "\n",
            "                hum     windspeed        casual    registered           cnt  \\\n",
            "count  17379.000000  17379.000000  17379.000000  17379.000000  17379.000000   \n",
            "mean       0.627229      0.190098     35.676218    153.786869    189.463088   \n",
            "min        0.000000      0.000000      0.000000      0.000000      1.000000   \n",
            "25%        0.480000      0.104500      4.000000     34.000000     40.000000   \n",
            "50%        0.630000      0.194000     17.000000    115.000000    142.000000   \n",
            "75%        0.780000      0.253700     48.000000    220.000000    281.000000   \n",
            "max        1.000000      0.850700    367.000000    886.000000    977.000000   \n",
            "std        0.192930      0.122340     49.305030    151.357286    181.387599   \n",
            "\n",
            "                            datetime          year         month  \\\n",
            "count                          17379  17379.000000  17379.000000   \n",
            "mean   2012-01-02 15:41:22.858622464   2011.502561      6.537775   \n",
            "min              2011-01-01 00:00:00   2011.000000      1.000000   \n",
            "25%              2011-07-04 22:30:00   2011.000000      4.000000   \n",
            "50%              2012-01-02 21:00:00   2012.000000      7.000000   \n",
            "75%              2012-07-02 06:30:00   2012.000000     10.000000   \n",
            "max              2012-12-31 23:00:00   2012.000000     12.000000   \n",
            "std                              NaN      0.500008      3.438776   \n",
            "\n",
            "                day          hour  \n",
            "count  17379.000000  17379.000000  \n",
            "mean      15.683411     11.546752  \n",
            "min        1.000000      0.000000  \n",
            "25%        8.000000      6.000000  \n",
            "50%       16.000000     12.000000  \n",
            "75%       23.000000     18.000000  \n",
            "max       31.000000     23.000000  \n",
            "std        8.789373      6.914405  \n",
            "\n",
            "Statistik Deskriptif Data Day:\n",
            "          instant          yr        mnth     holiday     weekday  workingday  \\\n",
            "count  731.000000  731.000000  731.000000  731.000000  731.000000  731.000000   \n",
            "mean   366.000000    0.500684    6.519836    0.028728    2.997264    0.683995   \n",
            "min      1.000000    0.000000    1.000000    0.000000    0.000000    0.000000   \n",
            "25%    183.500000    0.000000    4.000000    0.000000    1.000000    0.000000   \n",
            "50%    366.000000    1.000000    7.000000    0.000000    3.000000    1.000000   \n",
            "75%    548.500000    1.000000   10.000000    0.000000    5.000000    1.000000   \n",
            "max    731.000000    1.000000   12.000000    1.000000    6.000000    1.000000   \n",
            "std    211.165812    0.500342    3.451913    0.167155    2.004787    0.465233   \n",
            "\n",
            "       weathersit        temp       atemp         hum   windspeed  \\\n",
            "count  731.000000  731.000000  731.000000  731.000000  731.000000   \n",
            "mean     1.395349    0.495385    0.474354    0.627894    0.190486   \n",
            "min      1.000000    0.059130    0.079070    0.000000    0.022392   \n",
            "25%      1.000000    0.337083    0.337842    0.520000    0.134950   \n",
            "50%      1.000000    0.498333    0.486733    0.626667    0.180975   \n",
            "75%      2.000000    0.655417    0.608602    0.730209    0.233214   \n",
            "max      3.000000    0.861667    0.840896    0.972500    0.507463   \n",
            "std      0.544894    0.183051    0.162961    0.142429    0.077498   \n",
            "\n",
            "            casual   registered          cnt             datetime  \\\n",
            "count   731.000000   731.000000   731.000000                  731   \n",
            "mean    848.176471  3656.172367  4504.348837  2012-01-01 00:00:00   \n",
            "min       2.000000    20.000000    22.000000  2011-01-01 00:00:00   \n",
            "25%     315.500000  2497.000000  3152.000000  2011-07-02 12:00:00   \n",
            "50%     713.000000  3662.000000  4548.000000  2012-01-01 00:00:00   \n",
            "75%    1096.000000  4776.500000  5956.000000  2012-07-01 12:00:00   \n",
            "max    3410.000000  6946.000000  8714.000000  2012-12-31 00:00:00   \n",
            "std     686.622488  1560.256377  1937.211452                  NaN   \n",
            "\n",
            "              year       month  \n",
            "count   731.000000  731.000000  \n",
            "mean   2011.500684    6.519836  \n",
            "min    2011.000000    1.000000  \n",
            "25%    2011.000000    4.000000  \n",
            "50%    2012.000000    7.000000  \n",
            "75%    2012.000000   10.000000  \n",
            "max    2012.000000   12.000000  \n",
            "std       0.500342    3.451913  \n"
          ]
        }
      ]
    },
    {
      "cell_type": "markdown",
      "source": [
        "* Insight : Distribusi penyewaan sepeda memiliki variabilitas tinggi dengan adanya jam-jam puncak dan musim tertentu yang meningkatkan penggunaan."
      ],
      "metadata": {
        "id": "8Ql20MtGs8mo"
      }
    },
    {
      "cell_type": "markdown",
      "source": [
        "### Conclusion(Kesimpulan) :"
      ],
      "metadata": {
        "id": "7Q7385oBd7do"
      }
    },
    {
      "cell_type": "markdown",
      "source": [
        "conclusion pertanyaan 1:"
      ],
      "metadata": {
        "id": "Btu_yw11XkfK"
      }
    },
    {
      "cell_type": "markdown",
      "source": [
        "Musim mempengaruhi pola penggunaan sepeda, Berdasarkan analisis rata-rata penyewaan sepeda per musim, terlihat bahwa musim Summer dan Fall memiliki tingkat penyewaan sepeda yang paling tinggi dibandingkan musim lainnya. Ini kemungkinan besar karena cuaca yang lebih hangat dan nyaman untuk aktivitas luar ruangan. Sebaliknya, penyewaan sepeda berkurang secara signifikan di musim Winter, saat kondisi cuaca kurang mendukung. Oleh karena itu, penyesuaian jumlah sepeda dan promosi musiman dapat difokuskan pada musim panas dan gugur untuk memaksimalkan pendapatan."
      ],
      "metadata": {
        "id": "7g7QJ71sd9lR"
      }
    },
    {
      "cell_type": "markdown",
      "source": [
        "Conclusion pertanyaan 2:"
      ],
      "metadata": {
        "id": "dGhDB5IEasQo"
      }
    },
    {
      "cell_type": "markdown",
      "source": [
        "Pola penggunaan sepeda sangat dipengaruhi oleh aktivitas harian, terutama pada jam sibuk ketika orang-orang berangkat dan pulang kerja. Strategi peningkatan ketersediaan sepeda pada jam-jam ini bisa membantu memenuhi permintaan yang lebih tinggi."
      ],
      "metadata": {
        "id": "DL32gYrSavPI"
      }
    },
    {
      "cell_type": "markdown",
      "source": [
        "# Conclusion Klastering:"
      ],
      "metadata": {
        "id": "ELBF9HOHr4_f"
      }
    },
    {
      "cell_type": "markdown",
      "source": [
        "Penyewaan sepeda perlu diperbanyak di musim Summer dan Fall pada jam-jam sibuk, sementara di musim Winter, ketersediaan bisa disesuaikan untuk cluster dengan aktivitas rendah."
      ],
      "metadata": {
        "id": "7cdK08OQr8Jl"
      }
    }
  ]
}