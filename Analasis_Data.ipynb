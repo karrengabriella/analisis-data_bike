{
  "nbformat": 4,
  "nbformat_minor": 0,
  "metadata": {
    "colab": {
      "provenance": []
    },
    "kernelspec": {
      "name": "python3",
      "display_name": "Python 3"
    },
    "language_info": {
      "name": "python"
    }
  },
  "cells": [
    {
      "cell_type": "markdown",
      "source": [
        "# Proyek Analisis Data : Bike"
      ],
      "metadata": {
        "id": "RK8cCnJu-0zX"
      }
    },
    {
      "cell_type": "markdown",
      "source": [
        "\n",
        "*   Nama : Karren Gabriella Khoirunnisa\n",
        "*   Email : m312b4kx2144@bangkit.academy\n",
        "*   ID Dicoding : karrengabriella\n",
        "\n"
      ],
      "metadata": {
        "id": "nuTBzR2P-_wc"
      }
    },
    {
      "cell_type": "markdown",
      "source": [
        "## Pertanyaan Bisnis"
      ],
      "metadata": {
        "id": "nGQw9Xfg_dOm"
      }
    },
    {
      "cell_type": "markdown",
      "source": [
        "\n",
        "\n",
        "*   Pertanyaan 1 : Bagaimana pola penggunaan sepeda berdasarkan musim?\n",
        "*   Pertanyaan 2 : Bagaimana waktu (jam) memengaruhi jumlah penyewaaan sepeda?\n",
        "*   Pertanyaan 3 :Bagaimana cuaca memengaruhi jumlah penyewaan sepeda?\n",
        "\n"
      ],
      "metadata": {
        "id": "e-Jt9QBN_hvM"
      }
    },
    {
      "cell_type": "markdown",
      "source": [
        "### Import Packages/Library yang digunakan"
      ],
      "metadata": {
        "id": "SmKjgG5s_qSh"
      }
    },
    {
      "cell_type": "code",
      "execution_count": 4,
      "metadata": {
        "id": "v0L3J9i1TvsZ"
      },
      "outputs": [],
      "source": [
        "import pandas as pd\n",
        "import matplotlib.pyplot as plt\n",
        "import seaborn as sns"
      ]
    },
    {
      "cell_type": "markdown",
      "source": [
        "Insight : pada bagian ini, perlu mengimpor semua library yang akan digunakan untuk analisis."
      ],
      "metadata": {
        "id": "5H56R_zVWPeT"
      }
    },
    {
      "cell_type": "markdown",
      "source": [
        "## Data Wrangling"
      ],
      "metadata": {
        "id": "1qQ8K_zhVCbi"
      }
    },
    {
      "cell_type": "markdown",
      "source": [
        "### Gathering Data"
      ],
      "metadata": {
        "id": "1O92Gv06UoWj"
      }
    },
    {
      "cell_type": "code",
      "source": [
        "hour_df = pd.read_csv('https://raw.githubusercontent.com/karrengabriella/analisis-data_bike/main/data/hour.csv')\n",
        "day_df = pd.read_csv('https://raw.githubusercontent.com/karrengabriella/analisis-data_bike/main/data/day.csv')"
      ],
      "metadata": {
        "id": "jxwzG7ZoUpGm"
      },
      "execution_count": 17,
      "outputs": []
    },
    {
      "cell_type": "markdown",
      "source": [
        "Insight  :Data diambil dari sumber eksternal (GitHub) menggunakan fungsi pd.read_csv(). Dataset ini berisi data penyewaan sepeda per jam dan harian."
      ],
      "metadata": {
        "id": "ra5H19jiWXOa"
      }
    },
    {
      "cell_type": "markdown",
      "source": [
        "## Assesing Data"
      ],
      "metadata": {
        "id": "3CSfg5iCWa6L"
      }
    },
    {
      "cell_type": "code",
      "source": [
        "# Step 3: Melihat beberapa baris pertama dari kedua dataset\n",
        "print(\"Data Hour:\")\n",
        "print(hour_df.head())\n",
        "print(\"\\nData Day:\")\n",
        "print(day_df.head())\n",
        "\n",
        "# Step 4: Informasi dataset\n",
        "print(\"\\nInformasi Data Hour:\")\n",
        "print(hour_df.info())\n",
        "print(\"\\nInformasi Data Day:\")\n",
        "print(day_df.info())"
      ],
      "metadata": {
        "id": "eXEptEM6TzpC",
        "colab": {
          "base_uri": "https://localhost:8080/"
        },
        "collapsed": true,
        "outputId": "fe4fdc5f-4be4-499d-b8dd-02242ff85e37"
      },
      "execution_count": 18,
      "outputs": [
        {
          "output_type": "stream",
          "name": "stdout",
          "text": [
            "Data Hour:\n",
            "   instant      dteday  season  yr  mnth  hr  holiday  weekday  workingday  \\\n",
            "0        1  2011-01-01       1   0     1   0        0        6           0   \n",
            "1        2  2011-01-01       1   0     1   1        0        6           0   \n",
            "2        3  2011-01-01       1   0     1   2        0        6           0   \n",
            "3        4  2011-01-01       1   0     1   3        0        6           0   \n",
            "4        5  2011-01-01       1   0     1   4        0        6           0   \n",
            "\n",
            "   weathersit  temp   atemp   hum  windspeed  casual  registered  cnt  \n",
            "0           1  0.24  0.2879  0.81        0.0       3          13   16  \n",
            "1           1  0.22  0.2727  0.80        0.0       8          32   40  \n",
            "2           1  0.22  0.2727  0.80        0.0       5          27   32  \n",
            "3           1  0.24  0.2879  0.75        0.0       3          10   13  \n",
            "4           1  0.24  0.2879  0.75        0.0       0           1    1  \n",
            "\n",
            "Data Day:\n",
            "   instant      dteday  season  yr  mnth  holiday  weekday  workingday  \\\n",
            "0        1  2011-01-01       1   0     1        0        6           0   \n",
            "1        2  2011-01-02       1   0     1        0        0           0   \n",
            "2        3  2011-01-03       1   0     1        0        1           1   \n",
            "3        4  2011-01-04       1   0     1        0        2           1   \n",
            "4        5  2011-01-05       1   0     1        0        3           1   \n",
            "\n",
            "   weathersit      temp     atemp       hum  windspeed  casual  registered  \\\n",
            "0           2  0.344167  0.363625  0.805833   0.160446     331         654   \n",
            "1           2  0.363478  0.353739  0.696087   0.248539     131         670   \n",
            "2           1  0.196364  0.189405  0.437273   0.248309     120        1229   \n",
            "3           1  0.200000  0.212122  0.590435   0.160296     108        1454   \n",
            "4           1  0.226957  0.229270  0.436957   0.186900      82        1518   \n",
            "\n",
            "    cnt  \n",
            "0   985  \n",
            "1   801  \n",
            "2  1349  \n",
            "3  1562  \n",
            "4  1600  \n",
            "\n",
            "Informasi Data Hour:\n",
            "<class 'pandas.core.frame.DataFrame'>\n",
            "RangeIndex: 17379 entries, 0 to 17378\n",
            "Data columns (total 17 columns):\n",
            " #   Column      Non-Null Count  Dtype  \n",
            "---  ------      --------------  -----  \n",
            " 0   instant     17379 non-null  int64  \n",
            " 1   dteday      17379 non-null  object \n",
            " 2   season      17379 non-null  int64  \n",
            " 3   yr          17379 non-null  int64  \n",
            " 4   mnth        17379 non-null  int64  \n",
            " 5   hr          17379 non-null  int64  \n",
            " 6   holiday     17379 non-null  int64  \n",
            " 7   weekday     17379 non-null  int64  \n",
            " 8   workingday  17379 non-null  int64  \n",
            " 9   weathersit  17379 non-null  int64  \n",
            " 10  temp        17379 non-null  float64\n",
            " 11  atemp       17379 non-null  float64\n",
            " 12  hum         17379 non-null  float64\n",
            " 13  windspeed   17379 non-null  float64\n",
            " 14  casual      17379 non-null  int64  \n",
            " 15  registered  17379 non-null  int64  \n",
            " 16  cnt         17379 non-null  int64  \n",
            "dtypes: float64(4), int64(12), object(1)\n",
            "memory usage: 2.3+ MB\n",
            "None\n",
            "\n",
            "Informasi Data Day:\n",
            "<class 'pandas.core.frame.DataFrame'>\n",
            "RangeIndex: 731 entries, 0 to 730\n",
            "Data columns (total 16 columns):\n",
            " #   Column      Non-Null Count  Dtype  \n",
            "---  ------      --------------  -----  \n",
            " 0   instant     731 non-null    int64  \n",
            " 1   dteday      731 non-null    object \n",
            " 2   season      731 non-null    int64  \n",
            " 3   yr          731 non-null    int64  \n",
            " 4   mnth        731 non-null    int64  \n",
            " 5   holiday     731 non-null    int64  \n",
            " 6   weekday     731 non-null    int64  \n",
            " 7   workingday  731 non-null    int64  \n",
            " 8   weathersit  731 non-null    int64  \n",
            " 9   temp        731 non-null    float64\n",
            " 10  atemp       731 non-null    float64\n",
            " 11  hum         731 non-null    float64\n",
            " 12  windspeed   731 non-null    float64\n",
            " 13  casual      731 non-null    int64  \n",
            " 14  registered  731 non-null    int64  \n",
            " 15  cnt         731 non-null    int64  \n",
            "dtypes: float64(4), int64(11), object(1)\n",
            "memory usage: 91.5+ KB\n",
            "None\n"
          ]
        }
      ]
    },
    {
      "cell_type": "markdown",
      "source": [
        "Insight : Statistik deskriptif menunjukkan gambaran umum tentang distribusi data, seperti nilai rata-rata, standar deviasi, dan informasi terkait distribusi lain.\n",
        "Ini membantu mengidentifikasi potensi anomali atau outlier."
      ],
      "metadata": {
        "id": "zVdM7QhtWghB"
      }
    },
    {
      "cell_type": "markdown",
      "source": [
        "### Cleaning Data"
      ],
      "metadata": {
        "id": "QFwbkiXpdAbl"
      }
    },
    {
      "cell_type": "code",
      "source": [
        "# Function for data cleaning\n",
        "def clear_data(df):\n",
        "    # Remove duplicates\n",
        "    df_cleaned = df.drop_duplicates()\n",
        "    # Handle missing values (drop rows with missing values)\n",
        "    df_cleaned = df.dropna()\n",
        "    return df_cleaned\n",
        "\n",
        "# Step 3: Membersihkan data menggunakan fungsi clear_data\n",
        "hour_df_cleaned = clear_data(hour_df)\n",
        "day_df_cleaned = clear_data(day_df)"
      ],
      "metadata": {
        "id": "NprfvpvLT2NG"
      },
      "execution_count": 20,
      "outputs": []
    },
    {
      "cell_type": "markdown",
      "source": [
        "Insight : Data cleaning mencakup penghapusan duplikasi dan missing values. Ini memastikan bahwa analisis dilakukan pada data yang bersih dan relevan."
      ],
      "metadata": {
        "id": "0A7lf9tndScD"
      }
    },
    {
      "cell_type": "markdown",
      "source": [
        "### Exploratory Data Analysis (EDA)"
      ],
      "metadata": {
        "id": "dBJB98jadRP0"
      }
    },
    {
      "cell_type": "markdown",
      "source": [
        "## Explore Data"
      ],
      "metadata": {
        "id": "-Y2TxVyDW1X7"
      }
    },
    {
      "cell_type": "code",
      "source": [
        "# Ekstraksi fitur tambahan dari dataset hour_df dan day_df\n",
        "hour_df['season'] = hour_df['season'].map({1: 'Winter', 2: 'Spring', 3: 'Summer', 4: 'Fall'})\n",
        "hour_df['datetime'] = pd.to_datetime(hour_df['dteday']) + pd.to_timedelta(hour_df['hr'], unit='h')\n",
        "\n",
        "# Melakukan grouping data\n",
        "season_counts_hour = hour_df_cleaned.groupby('season')['cnt'].sum().reset_index()"
      ],
      "metadata": {
        "id": "0yboIDZYT496",
        "collapsed": true
      },
      "execution_count": 9,
      "outputs": []
    },
    {
      "cell_type": "code",
      "source": [
        "# Ekstraksi Fitur Tambahan\n",
        "hour_df['datetime'] = pd.to_datetime(hour_df['dteday']) + pd.to_timedelta(hour_df['hr'], unit='h')\n",
        "hour_df['year'] = hour_df['datetime'].dt.year\n",
        "hour_df['month'] = hour_df['datetime'].dt.month\n",
        "hour_df['day'] = hour_df['datetime'].dt.day\n",
        "hour_df['hour'] = hour_df['datetime'].dt.hour\n",
        "hour_df['season'] = hour_df['season'].map({1: 'Winter', 2: 'Spring', 3: 'Summer', 4: 'Fall'})\n",
        "\n",
        "day_df['datetime'] = pd.to_datetime(day_df['dteday'])\n",
        "day_df['year'] = day_df['datetime'].dt.year\n",
        "day_df['month'] = day_df['datetime'].dt.month\n",
        "day_df['season'] = day_df['season'].map({1: 'Winter', 2: 'Spring', 3: 'Summer', 4: 'Fall'})\n"
      ],
      "metadata": {
        "id": "8CGM0ApQY6D9"
      },
      "execution_count": 19,
      "outputs": []
    },
    {
      "cell_type": "markdown",
      "source": [
        "Insight : melakukan transformasi fitur dengan menambahkan kolom baru seperti season dan datetime. Dilakukan grouping data untuk analisis lebih lanjut. Fitur tambahan seperti season memungkinkan untuk mengamati pola berdasarkan musim."
      ],
      "metadata": {
        "id": "P1sDzcdkderk"
      }
    },
    {
      "cell_type": "markdown",
      "source": [
        "### Visualization & Explanatory Analysis"
      ],
      "metadata": {
        "id": "SUBVvdLuXEbI"
      }
    },
    {
      "cell_type": "markdown",
      "source": [
        "Pertanyaan 1 : Apa pola penggunaan sepeda berdasarkan musim?"
      ],
      "metadata": {
        "id": "bgv-dDuWXLkl"
      }
    },
    {
      "cell_type": "code",
      "source": [
        "plt.figure(figsize=(10, 6))\n",
        "season_counts_hour = hour_df.groupby('season')['cnt'].sum().reset_index()\n",
        "\n",
        "sns.barplot(x='season', y='cnt', data=season_counts_hour, palette='viridis')\n",
        "plt.title('Jumlah Penyewaan Berdasarkan Musim (Hour Data)')\n",
        "plt.xlabel('Musim')\n",
        "plt.ylabel('Jumlah Penyewaan')\n",
        "plt.show()"
      ],
      "metadata": {
        "colab": {
          "base_uri": "https://localhost:8080/",
          "height": 810
        },
        "id": "24r86zf1Ylcs",
        "outputId": "4620b81c-e856-432c-e611-dbc9b2bf957d"
      },
      "execution_count": 21,
      "outputs": [
        {
          "output_type": "stream",
          "name": "stderr",
          "text": [
            "<ipython-input-21-6166acea1442>:4: FutureWarning: \n",
            "\n",
            "Passing `palette` without assigning `hue` is deprecated and will be removed in v0.14.0. Assign the `x` variable to `hue` and set `legend=False` for the same effect.\n",
            "\n",
            "  sns.barplot(x='season', y='cnt', data=season_counts_hour, palette='viridis')\n",
            "/usr/local/lib/python3.10/dist-packages/seaborn/_base.py:949: FutureWarning: When grouping with a length-1 list-like, you will need to pass a length-1 tuple to get_group in a future version of pandas. Pass `(name,)` instead of `name` to silence this warning.\n",
            "  data_subset = grouped_data.get_group(pd_key)\n",
            "/usr/local/lib/python3.10/dist-packages/seaborn/_base.py:949: FutureWarning: When grouping with a length-1 list-like, you will need to pass a length-1 tuple to get_group in a future version of pandas. Pass `(name,)` instead of `name` to silence this warning.\n",
            "  data_subset = grouped_data.get_group(pd_key)\n",
            "/usr/local/lib/python3.10/dist-packages/seaborn/_base.py:949: FutureWarning: When grouping with a length-1 list-like, you will need to pass a length-1 tuple to get_group in a future version of pandas. Pass `(name,)` instead of `name` to silence this warning.\n",
            "  data_subset = grouped_data.get_group(pd_key)\n",
            "/usr/local/lib/python3.10/dist-packages/seaborn/_base.py:949: FutureWarning: When grouping with a length-1 list-like, you will need to pass a length-1 tuple to get_group in a future version of pandas. Pass `(name,)` instead of `name` to silence this warning.\n",
            "  data_subset = grouped_data.get_group(pd_key)\n"
          ]
        },
        {
          "output_type": "display_data",
          "data": {
            "text/plain": [
              "<Figure size 1000x600 with 1 Axes>"
            ],
            "image/png": "[encoded data removed]"
          },
          "metadata": {}
        }
      ]
    },
    {
      "cell_type": "markdown",
      "source": [
        "Insight : Musim seperti Spring dan Summer cenderung memiliki jumlah penyewaan sepeda yang lebih tinggi dibandingkan dengan Winter.\n"
      ],
      "metadata": {
        "id": "aohXmlfndokv"
      }
    },
    {
      "cell_type": "markdown",
      "source": [
        "Pertanyaan 2 : Bagaimana pola penyewaan berdasarkan jam?"
      ],
      "metadata": {
        "id": "vfYp0fU-aTHP"
      }
    },
    {
      "cell_type": "code",
      "source": [
        "plt.figure(figsize=(10, 6))\n",
        "hour_counts = hour_df.groupby('hour')['cnt'].sum().reset_index()\n",
        "\n",
        "sns.lineplot(x='hour', y='cnt', data=hour_counts, marker='o', color='b')\n",
        "plt.title('Jumlah Penyewaan Berdasarkan Jam')\n",
        "plt.xlabel('Jam')\n",
        "plt.ylabel('Jumlah Penyewaan')\n",
        "plt.grid(True)\n",
        "plt.show()"
      ],
      "metadata": {
        "colab": {
          "base_uri": "https://localhost:8080/",
          "height": 564
        },
        "id": "I4hgPi5daO_I",
        "outputId": "12e2f23b-e826-4802-94ec-a69d20ac46b4"
      },
      "execution_count": 26,
      "outputs": [
        {
          "output_type": "display_data",
          "data": {
            "text/plain": [
              "<Figure size 1000x600 with 1 Axes>"
            ],
            "image/png": "[encoded data removed]"
          },
          "metadata": {}
        }
      ]
    },
    {
      "cell_type": "markdown",
      "source": [
        "Pertanyaan 3 : Bagaimana cuaca memengaruhi jumlah penyewaan sepeda?"
      ],
      "metadata": {
        "id": "yLK9DWImduu_"
      }
    },
    {
      "cell_type": "code",
      "source": [
        "plt.figure(figsize=(10, 6))\n",
        "weather_counts_day = day_df.groupby('weathersit')['cnt'].sum().reset_index()\n",
        "\n",
        "# Menyusun kategori cuaca\n",
        "weather_map_day = {1: 'Clear, Few clouds', 2: 'Mist + Cloudy', 3: 'Light Snow/Rain', 4: 'Heavy Rain/Snow'}\n",
        "weather_counts_day['weathersit'] = weather_counts_day['weathersit'].map(weather_map_day)\n",
        "\n",
        "sns.barplot(x='weathersit', y='cnt', data=weather_counts_day, palette='plasma')\n",
        "plt.title('Jumlah Penyewaan Berdasarkan Cuaca (Day Data)')\n",
        "plt.xlabel('Cuaca')\n",
        "plt.ylabel('Jumlah Penyewaan')\n",
        "plt.show()\n"
      ],
      "metadata": {
        "colab": {
          "base_uri": "https://localhost:8080/",
          "height": 775
        },
        "collapsed": true,
        "id": "1XYmThwDcISA",
        "outputId": "260d5795-d1ac-4576-aba4-171f1dd4a609"
      },
      "execution_count": 27,
      "outputs": [
        {
          "output_type": "stream",
          "name": "stderr",
          "text": [
            "<ipython-input-27-bf4751a240b4>:8: FutureWarning: \n",
            "\n",
            "Passing `palette` without assigning `hue` is deprecated and will be removed in v0.14.0. Assign the `x` variable to `hue` and set `legend=False` for the same effect.\n",
            "\n",
            "  sns.barplot(x='weathersit', y='cnt', data=weather_counts_day, palette='plasma')\n",
            "/usr/local/lib/python3.10/dist-packages/seaborn/_base.py:949: FutureWarning: When grouping with a length-1 list-like, you will need to pass a length-1 tuple to get_group in a future version of pandas. Pass `(name,)` instead of `name` to silence this warning.\n",
            "  data_subset = grouped_data.get_group(pd_key)\n",
            "/usr/local/lib/python3.10/dist-packages/seaborn/_base.py:949: FutureWarning: When grouping with a length-1 list-like, you will need to pass a length-1 tuple to get_group in a future version of pandas. Pass `(name,)` instead of `name` to silence this warning.\n",
            "  data_subset = grouped_data.get_group(pd_key)\n",
            "/usr/local/lib/python3.10/dist-packages/seaborn/_base.py:949: FutureWarning: When grouping with a length-1 list-like, you will need to pass a length-1 tuple to get_group in a future version of pandas. Pass `(name,)` instead of `name` to silence this warning.\n",
            "  data_subset = grouped_data.get_group(pd_key)\n"
          ]
        },
        {
          "output_type": "display_data",
          "data": {
            "text/plain": [
              "<Figure size 1000x600 with 1 Axes>"
            ],
            "image/png": "[encoded data removed]"
          },
          "metadata": {}
        }
      ]
    },
    {
      "cell_type": "code",
      "source": [
        "#statistik Deskriptif\n",
        "\n",
        "print(\"\\nStatistik Deskriptif Data Hour:\")\n",
        "print(hour_df.describe())\n",
        "\n",
        "print(\"\\nStatistik Deskriptif Data Day:\")\n",
        "print(day_df.describe())"
      ],
      "metadata": {
        "colab": {
          "base_uri": "https://localhost:8080/"
        },
        "id": "mJOOWMSgZDnj",
        "outputId": "7d2bd846-41ca-431d-e7ea-6ce73d1fbc62"
      },
      "execution_count": 29,
      "outputs": [
        {
          "output_type": "stream",
          "name": "stdout",
          "text": [
            "\n",
            "Statistik Deskriptif Data Hour:\n",
            "          instant            yr          mnth            hr       holiday  \\\n",
            "count  17379.0000  17379.000000  17379.000000  17379.000000  17379.000000   \n",
            "mean    8690.0000      0.502561      6.537775     11.546752      0.028770   \n",
            "min        1.0000      0.000000      1.000000      0.000000      0.000000   \n",
            "25%     4345.5000      0.000000      4.000000      6.000000      0.000000   \n",
            "50%     8690.0000      1.000000      7.000000     12.000000      0.000000   \n",
            "75%    13034.5000      1.000000     10.000000     18.000000      0.000000   \n",
            "max    17379.0000      1.000000     12.000000     23.000000      1.000000   \n",
            "std     5017.0295      0.500008      3.438776      6.914405      0.167165   \n",
            "\n",
            "            weekday    workingday    weathersit          temp         atemp  \\\n",
            "count  17379.000000  17379.000000  17379.000000  17379.000000  17379.000000   \n",
            "mean       3.003683      0.682721      1.425283      0.496987      0.475775   \n",
            "min        0.000000      0.000000      1.000000      0.020000      0.000000   \n",
            "25%        1.000000      0.000000      1.000000      0.340000      0.333300   \n",
            "50%        3.000000      1.000000      1.000000      0.500000      0.484800   \n",
            "75%        5.000000      1.000000      2.000000      0.660000      0.621200   \n",
            "max        6.000000      1.000000      4.000000      1.000000      1.000000   \n",
            "std        2.005771      0.465431      0.639357      0.192556      0.171850   \n",
            "\n",
            "                hum     windspeed        casual    registered           cnt  \\\n",
            "count  17379.000000  17379.000000  17379.000000  17379.000000  17379.000000   \n",
            "mean       0.627229      0.190098     35.676218    153.786869    189.463088   \n",
            "min        0.000000      0.000000      0.000000      0.000000      1.000000   \n",
            "25%        0.480000      0.104500      4.000000     34.000000     40.000000   \n",
            "50%        0.630000      0.194000     17.000000    115.000000    142.000000   \n",
            "75%        0.780000      0.253700     48.000000    220.000000    281.000000   \n",
            "max        1.000000      0.850700    367.000000    886.000000    977.000000   \n",
            "std        0.192930      0.122340     49.305030    151.357286    181.387599   \n",
            "\n",
            "                            datetime          year         month  \\\n",
            "count                          17379  17379.000000  17379.000000   \n",
            "mean   2012-01-02 15:41:22.858622464   2011.502561      6.537775   \n",
            "min              2011-01-01 00:00:00   2011.000000      1.000000   \n",
            "25%              2011-07-04 22:30:00   2011.000000      4.000000   \n",
            "50%              2012-01-02 21:00:00   2012.000000      7.000000   \n",
            "75%              2012-07-02 06:30:00   2012.000000     10.000000   \n",
            "max              2012-12-31 23:00:00   2012.000000     12.000000   \n",
            "std                              NaN      0.500008      3.438776   \n",
            "\n",
            "                day          hour  \n",
            "count  17379.000000  17379.000000  \n",
            "mean      15.683411     11.546752  \n",
            "min        1.000000      0.000000  \n",
            "25%        8.000000      6.000000  \n",
            "50%       16.000000     12.000000  \n",
            "75%       23.000000     18.000000  \n",
            "max       31.000000     23.000000  \n",
            "std        8.789373      6.914405  \n",
            "\n",
            "Statistik Deskriptif Data Day:\n",
            "          instant          yr        mnth     holiday     weekday  workingday  \\\n",
            "count  731.000000  731.000000  731.000000  731.000000  731.000000  731.000000   \n",
            "mean   366.000000    0.500684    6.519836    0.028728    2.997264    0.683995   \n",
            "min      1.000000    0.000000    1.000000    0.000000    0.000000    0.000000   \n",
            "25%    183.500000    0.000000    4.000000    0.000000    1.000000    0.000000   \n",
            "50%    366.000000    1.000000    7.000000    0.000000    3.000000    1.000000   \n",
            "75%    548.500000    1.000000   10.000000    0.000000    5.000000    1.000000   \n",
            "max    731.000000    1.000000   12.000000    1.000000    6.000000    1.000000   \n",
            "std    211.165812    0.500342    3.451913    0.167155    2.004787    0.465233   \n",
            "\n",
            "       weathersit        temp       atemp         hum   windspeed  \\\n",
            "count  731.000000  731.000000  731.000000  731.000000  731.000000   \n",
            "mean     1.395349    0.495385    0.474354    0.627894    0.190486   \n",
            "min      1.000000    0.059130    0.079070    0.000000    0.022392   \n",
            "25%      1.000000    0.337083    0.337842    0.520000    0.134950   \n",
            "50%      1.000000    0.498333    0.486733    0.626667    0.180975   \n",
            "75%      2.000000    0.655417    0.608602    0.730209    0.233214   \n",
            "max      3.000000    0.861667    0.840896    0.972500    0.507463   \n",
            "std      0.544894    0.183051    0.162961    0.142429    0.077498   \n",
            "\n",
            "            casual   registered          cnt             datetime  \\\n",
            "count   731.000000   731.000000   731.000000                  731   \n",
            "mean    848.176471  3656.172367  4504.348837  2012-01-01 00:00:00   \n",
            "min       2.000000    20.000000    22.000000  2011-01-01 00:00:00   \n",
            "25%     315.500000  2497.000000  3152.000000  2011-07-02 12:00:00   \n",
            "50%     713.000000  3662.000000  4548.000000  2012-01-01 00:00:00   \n",
            "75%    1096.000000  4776.500000  5956.000000  2012-07-01 12:00:00   \n",
            "max    3410.000000  6946.000000  8714.000000  2012-12-31 00:00:00   \n",
            "std     686.622488  1560.256377  1937.211452                  NaN   \n",
            "\n",
            "              year       month  \n",
            "count   731.000000  731.000000  \n",
            "mean   2011.500684    6.519836  \n",
            "min    2011.000000    1.000000  \n",
            "25%    2011.000000    4.000000  \n",
            "50%    2012.000000    7.000000  \n",
            "75%    2012.000000   10.000000  \n",
            "max    2012.000000   12.000000  \n",
            "std       0.500342    3.451913  \n"
          ]
        }
      ]
    },
    {
      "cell_type": "markdown",
      "source": [
        "Insight : Cuaca juga memainkan peran penting. Penyewaan sepeda meningkat ketika cuaca cerah atau berawan, dan turun drastis saat hujan atau salju lebat."
      ],
      "metadata": {
        "id": "_0wx-kifXcto"
      }
    },
    {
      "cell_type": "markdown",
      "source": [
        "### Conclusion(Kesimpulan) :"
      ],
      "metadata": {
        "id": "7Q7385oBd7do"
      }
    },
    {
      "cell_type": "markdown",
      "source": [
        "conclusion pertanyaan 1:"
      ],
      "metadata": {
        "id": "Btu_yw11XkfK"
      }
    },
    {
      "cell_type": "markdown",
      "source": [
        "Musim mempengaruhi pola penggunaan sepeda, dengan puncaknya terjadi selama musim semi dan musim panas, terutama pada jam-jam siang dan sore."
      ],
      "metadata": {
        "id": "7g7QJ71sd9lR"
      }
    },
    {
      "cell_type": "markdown",
      "source": [
        "Conclusion pertanyaan 2:"
      ],
      "metadata": {
        "id": "dGhDB5IEasQo"
      }
    },
    {
      "cell_type": "markdown",
      "source": [
        "Jam mempengaruhi pola penggunaan sepeda diantara penggunaan sepeda akan ramai saat pagi dan sore dimana merupakan jam berangkat dan pulang kerja."
      ],
      "metadata": {
        "id": "DL32gYrSavPI"
      }
    },
    {
      "cell_type": "markdown",
      "source": [
        "Conclusion pertanyaan 3:"
      ],
      "metadata": {
        "id": "37vMx07Oec23"
      }
    },
    {
      "cell_type": "markdown",
      "source": [
        "Cuaca juga berdampak besar pada penyewaan sepeda, dengan penyewaan tertinggi terjadi selama cuaca cerah atau mendung, dan lebih rendah saat hujan deras atau salju.\n"
      ],
      "metadata": {
        "id": "2BG31WDtXsBm"
      }
    }
  ]
}